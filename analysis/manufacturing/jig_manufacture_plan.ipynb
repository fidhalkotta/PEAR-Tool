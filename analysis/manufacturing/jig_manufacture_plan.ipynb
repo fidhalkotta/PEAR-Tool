{
 "cells": [
  {
   "cell_type": "code",
   "execution_count": 214,
   "metadata": {
    "collapsed": true
   },
   "outputs": [],
   "source": [
    "# jig size 25\n",
    "# 54, 21.6, 35.6, 21.2\n",
    "\n",
    "import numpy as np\n",
    "import pandas as pd"
   ]
  },
  {
   "cell_type": "code",
   "execution_count": 224,
   "outputs": [
    {
     "data": {
      "text/plain": "{37: 0.24324324324324326,\n 39: 0.23076923076923078,\n 41: 0.21951219512195122,\n 43: 0.20930232558139536,\n 45: 0.2,\n 47: 0.19148936170212766,\n 49: 0.1836734693877551}"
     },
     "execution_count": 224,
     "metadata": {},
     "output_type": "execute_result"
    }
   ],
   "source": [
    "\n",
    "indirect_indexer_C_holes = [37, 39, 41, 43, 45, 47,49]\n",
    "\n",
    "worm_worm_gear_ratio = 360/40\n",
    "\n",
    "individual_angle_offsets = {i: worm_worm_gear_ratio / i for i in indirect_indexer_C_holes}\n",
    "individual_angle_offsets"
   ],
   "metadata": {
    "collapsed": false
   }
  },
  {
   "cell_type": "code",
   "execution_count": 228,
   "outputs": [
    {
     "data": {
      "text/plain": "          37        39        41        43   45        47        49\n1   0.243243  0.230769  0.219512  0.209302  0.2  0.191489  0.183673\n2   0.486486  0.461538  0.439024  0.418605  0.4  0.382979  0.367347\n3   0.729730  0.692308  0.658537  0.627907  0.6  0.574468  0.551020\n4   0.972973  0.923077  0.878049  0.837209  0.8  0.765957  0.734694\n5   1.216216  1.153846  1.097561  1.046512  1.0  0.957447  0.918367\n6   1.459459  1.384615  1.317073  1.255814  1.2  1.148936  1.102041\n7   1.702703  1.615385  1.536585  1.465116  1.4  1.340426  1.285714\n8   1.945946  1.846154  1.756098  1.674419  1.6  1.531915  1.469388\n9   2.189189  2.076923  1.975610  1.883721  1.8  1.723404  1.653061\n10  2.432432  2.307692  2.195122  2.093023  2.0  1.914894  1.836735\n11  2.675676  2.538462  2.414634  2.302326  2.2  2.106383  2.020408\n12  2.918919  2.769231  2.634146  2.511628  2.4  2.297872  2.204082\n13  3.162162  3.000000  2.853659  2.720930  2.6  2.489362  2.387755\n14  3.405405  3.230769  3.073171  2.930233  2.8  2.680851  2.571429\n15  3.648649  3.461538  3.292683  3.139535  3.0  2.872340  2.755102\n16  3.891892  3.692308  3.512195  3.348837  3.2  3.063830  2.938776\n17  4.135135  3.923077  3.731707  3.558140  3.4  3.255319  3.122449\n18  4.378378  4.153846  3.951220  3.767442  3.6  3.446809  3.306122\n19  4.621622  4.384615  4.170732  3.976744  3.8  3.638298  3.489796\n20  4.864865  4.615385  4.390244  4.186047  4.0  3.829787  3.673469\n21  5.108108  4.846154  4.609756  4.395349  4.2  4.021277  3.857143\n22  5.351351  5.076923  4.829268  4.604651  4.4  4.212766  4.040816\n23  5.594595  5.307692  5.048780  4.813953  4.6  4.404255  4.224490\n24  5.837838  5.538462  5.268293  5.023256  4.8  4.595745  4.408163\n25  6.081081  5.769231  5.487805  5.232558  5.0  4.787234  4.591837\n26  6.324324  6.000000  5.707317  5.441860  5.2  4.978723  4.775510\n27  6.567568  6.230769  5.926829  5.651163  5.4  5.170213  4.959184\n28  6.810811  6.461538  6.146341  5.860465  5.6  5.361702  5.142857\n29  7.054054  6.692308  6.365854  6.069767  5.8  5.553191  5.326531\n30  7.297297  6.923077  6.585366  6.279070  6.0  5.744681  5.510204\n31  7.540541  7.153846  6.804878  6.488372  6.2  5.936170  5.693878\n32  7.783784  7.384615  7.024390  6.697674  6.4  6.127660  5.877551\n33  8.027027  7.615385  7.243902  6.906977  6.6  6.319149  6.061224\n34  8.270270  7.846154  7.463415  7.116279  6.8  6.510638  6.244898\n35  8.513514  8.076923  7.682927  7.325581  7.0  6.702128  6.428571\n36  8.756757  8.307692  7.902439  7.534884  7.2  6.893617  6.612245\n37  9.000000  8.538462  8.121951  7.744186  7.4  7.085106  6.795918\n38       NaN  8.769231  8.341463  7.953488  7.6  7.276596  6.979592\n39       NaN  9.000000  8.560976  8.162791  7.8  7.468085  7.163265\n40       NaN       NaN  8.780488  8.372093  8.0  7.659574  7.346939\n41       NaN       NaN  9.000000  8.581395  8.2  7.851064  7.530612\n42       NaN       NaN       NaN  8.790698  8.4  8.042553  7.714286\n43       NaN       NaN       NaN  9.000000  8.6  8.234043  7.897959\n44       NaN       NaN       NaN       NaN  8.8  8.425532  8.081633\n45       NaN       NaN       NaN       NaN  9.0  8.617021  8.265306\n46       NaN       NaN       NaN       NaN  NaN  8.808511  8.448980\n47       NaN       NaN       NaN       NaN  NaN  9.000000  8.632653\n48       NaN       NaN       NaN       NaN  NaN       NaN  8.816327\n49       NaN       NaN       NaN       NaN  NaN       NaN  9.000000",
      "text/html": "<div>\n<style scoped>\n    .dataframe tbody tr th:only-of-type {\n        vertical-align: middle;\n    }\n\n    .dataframe tbody tr th {\n        vertical-align: top;\n    }\n\n    .dataframe thead th {\n        text-align: right;\n    }\n</style>\n<table border=\"1\" class=\"dataframe\">\n  <thead>\n    <tr style=\"text-align: right;\">\n      <th></th>\n      <th>37</th>\n      <th>39</th>\n      <th>41</th>\n      <th>43</th>\n      <th>45</th>\n      <th>47</th>\n      <th>49</th>\n    </tr>\n  </thead>\n  <tbody>\n    <tr>\n      <th>1</th>\n      <td>0.243243</td>\n      <td>0.230769</td>\n      <td>0.219512</td>\n      <td>0.209302</td>\n      <td>0.2</td>\n      <td>0.191489</td>\n      <td>0.183673</td>\n    </tr>\n    <tr>\n      <th>2</th>\n      <td>0.486486</td>\n      <td>0.461538</td>\n      <td>0.439024</td>\n      <td>0.418605</td>\n      <td>0.4</td>\n      <td>0.382979</td>\n      <td>0.367347</td>\n    </tr>\n    <tr>\n      <th>3</th>\n      <td>0.729730</td>\n      <td>0.692308</td>\n      <td>0.658537</td>\n      <td>0.627907</td>\n      <td>0.6</td>\n      <td>0.574468</td>\n      <td>0.551020</td>\n    </tr>\n    <tr>\n      <th>4</th>\n      <td>0.972973</td>\n      <td>0.923077</td>\n      <td>0.878049</td>\n      <td>0.837209</td>\n      <td>0.8</td>\n      <td>0.765957</td>\n      <td>0.734694</td>\n    </tr>\n    <tr>\n      <th>5</th>\n      <td>1.216216</td>\n      <td>1.153846</td>\n      <td>1.097561</td>\n      <td>1.046512</td>\n      <td>1.0</td>\n      <td>0.957447</td>\n      <td>0.918367</td>\n    </tr>\n    <tr>\n      <th>6</th>\n      <td>1.459459</td>\n      <td>1.384615</td>\n      <td>1.317073</td>\n      <td>1.255814</td>\n      <td>1.2</td>\n      <td>1.148936</td>\n      <td>1.102041</td>\n    </tr>\n    <tr>\n      <th>7</th>\n      <td>1.702703</td>\n      <td>1.615385</td>\n      <td>1.536585</td>\n      <td>1.465116</td>\n      <td>1.4</td>\n      <td>1.340426</td>\n      <td>1.285714</td>\n    </tr>\n    <tr>\n      <th>8</th>\n      <td>1.945946</td>\n      <td>1.846154</td>\n      <td>1.756098</td>\n      <td>1.674419</td>\n      <td>1.6</td>\n      <td>1.531915</td>\n      <td>1.469388</td>\n    </tr>\n    <tr>\n      <th>9</th>\n      <td>2.189189</td>\n      <td>2.076923</td>\n      <td>1.975610</td>\n      <td>1.883721</td>\n      <td>1.8</td>\n      <td>1.723404</td>\n      <td>1.653061</td>\n    </tr>\n    <tr>\n      <th>10</th>\n      <td>2.432432</td>\n      <td>2.307692</td>\n      <td>2.195122</td>\n      <td>2.093023</td>\n      <td>2.0</td>\n      <td>1.914894</td>\n      <td>1.836735</td>\n    </tr>\n    <tr>\n      <th>11</th>\n      <td>2.675676</td>\n      <td>2.538462</td>\n      <td>2.414634</td>\n      <td>2.302326</td>\n      <td>2.2</td>\n      <td>2.106383</td>\n      <td>2.020408</td>\n    </tr>\n    <tr>\n      <th>12</th>\n      <td>2.918919</td>\n      <td>2.769231</td>\n      <td>2.634146</td>\n      <td>2.511628</td>\n      <td>2.4</td>\n      <td>2.297872</td>\n      <td>2.204082</td>\n    </tr>\n    <tr>\n      <th>13</th>\n      <td>3.162162</td>\n      <td>3.000000</td>\n      <td>2.853659</td>\n      <td>2.720930</td>\n      <td>2.6</td>\n      <td>2.489362</td>\n      <td>2.387755</td>\n    </tr>\n    <tr>\n      <th>14</th>\n      <td>3.405405</td>\n      <td>3.230769</td>\n      <td>3.073171</td>\n      <td>2.930233</td>\n      <td>2.8</td>\n      <td>2.680851</td>\n      <td>2.571429</td>\n    </tr>\n    <tr>\n      <th>15</th>\n      <td>3.648649</td>\n      <td>3.461538</td>\n      <td>3.292683</td>\n      <td>3.139535</td>\n      <td>3.0</td>\n      <td>2.872340</td>\n      <td>2.755102</td>\n    </tr>\n    <tr>\n      <th>16</th>\n      <td>3.891892</td>\n      <td>3.692308</td>\n      <td>3.512195</td>\n      <td>3.348837</td>\n      <td>3.2</td>\n      <td>3.063830</td>\n      <td>2.938776</td>\n    </tr>\n    <tr>\n      <th>17</th>\n      <td>4.135135</td>\n      <td>3.923077</td>\n      <td>3.731707</td>\n      <td>3.558140</td>\n      <td>3.4</td>\n      <td>3.255319</td>\n      <td>3.122449</td>\n    </tr>\n    <tr>\n      <th>18</th>\n      <td>4.378378</td>\n      <td>4.153846</td>\n      <td>3.951220</td>\n      <td>3.767442</td>\n      <td>3.6</td>\n      <td>3.446809</td>\n      <td>3.306122</td>\n    </tr>\n    <tr>\n      <th>19</th>\n      <td>4.621622</td>\n      <td>4.384615</td>\n      <td>4.170732</td>\n      <td>3.976744</td>\n      <td>3.8</td>\n      <td>3.638298</td>\n      <td>3.489796</td>\n    </tr>\n    <tr>\n      <th>20</th>\n      <td>4.864865</td>\n      <td>4.615385</td>\n      <td>4.390244</td>\n      <td>4.186047</td>\n      <td>4.0</td>\n      <td>3.829787</td>\n      <td>3.673469</td>\n    </tr>\n    <tr>\n      <th>21</th>\n      <td>5.108108</td>\n      <td>4.846154</td>\n      <td>4.609756</td>\n      <td>4.395349</td>\n      <td>4.2</td>\n      <td>4.021277</td>\n      <td>3.857143</td>\n    </tr>\n    <tr>\n      <th>22</th>\n      <td>5.351351</td>\n      <td>5.076923</td>\n      <td>4.829268</td>\n      <td>4.604651</td>\n      <td>4.4</td>\n      <td>4.212766</td>\n      <td>4.040816</td>\n    </tr>\n    <tr>\n      <th>23</th>\n      <td>5.594595</td>\n      <td>5.307692</td>\n      <td>5.048780</td>\n      <td>4.813953</td>\n      <td>4.6</td>\n      <td>4.404255</td>\n      <td>4.224490</td>\n    </tr>\n    <tr>\n      <th>24</th>\n      <td>5.837838</td>\n      <td>5.538462</td>\n      <td>5.268293</td>\n      <td>5.023256</td>\n      <td>4.8</td>\n      <td>4.595745</td>\n      <td>4.408163</td>\n    </tr>\n    <tr>\n      <th>25</th>\n      <td>6.081081</td>\n      <td>5.769231</td>\n      <td>5.487805</td>\n      <td>5.232558</td>\n      <td>5.0</td>\n      <td>4.787234</td>\n      <td>4.591837</td>\n    </tr>\n    <tr>\n      <th>26</th>\n      <td>6.324324</td>\n      <td>6.000000</td>\n      <td>5.707317</td>\n      <td>5.441860</td>\n      <td>5.2</td>\n      <td>4.978723</td>\n      <td>4.775510</td>\n    </tr>\n    <tr>\n      <th>27</th>\n      <td>6.567568</td>\n      <td>6.230769</td>\n      <td>5.926829</td>\n      <td>5.651163</td>\n      <td>5.4</td>\n      <td>5.170213</td>\n      <td>4.959184</td>\n    </tr>\n    <tr>\n      <th>28</th>\n      <td>6.810811</td>\n      <td>6.461538</td>\n      <td>6.146341</td>\n      <td>5.860465</td>\n      <td>5.6</td>\n      <td>5.361702</td>\n      <td>5.142857</td>\n    </tr>\n    <tr>\n      <th>29</th>\n      <td>7.054054</td>\n      <td>6.692308</td>\n      <td>6.365854</td>\n      <td>6.069767</td>\n      <td>5.8</td>\n      <td>5.553191</td>\n      <td>5.326531</td>\n    </tr>\n    <tr>\n      <th>30</th>\n      <td>7.297297</td>\n      <td>6.923077</td>\n      <td>6.585366</td>\n      <td>6.279070</td>\n      <td>6.0</td>\n      <td>5.744681</td>\n      <td>5.510204</td>\n    </tr>\n    <tr>\n      <th>31</th>\n      <td>7.540541</td>\n      <td>7.153846</td>\n      <td>6.804878</td>\n      <td>6.488372</td>\n      <td>6.2</td>\n      <td>5.936170</td>\n      <td>5.693878</td>\n    </tr>\n    <tr>\n      <th>32</th>\n      <td>7.783784</td>\n      <td>7.384615</td>\n      <td>7.024390</td>\n      <td>6.697674</td>\n      <td>6.4</td>\n      <td>6.127660</td>\n      <td>5.877551</td>\n    </tr>\n    <tr>\n      <th>33</th>\n      <td>8.027027</td>\n      <td>7.615385</td>\n      <td>7.243902</td>\n      <td>6.906977</td>\n      <td>6.6</td>\n      <td>6.319149</td>\n      <td>6.061224</td>\n    </tr>\n    <tr>\n      <th>34</th>\n      <td>8.270270</td>\n      <td>7.846154</td>\n      <td>7.463415</td>\n      <td>7.116279</td>\n      <td>6.8</td>\n      <td>6.510638</td>\n      <td>6.244898</td>\n    </tr>\n    <tr>\n      <th>35</th>\n      <td>8.513514</td>\n      <td>8.076923</td>\n      <td>7.682927</td>\n      <td>7.325581</td>\n      <td>7.0</td>\n      <td>6.702128</td>\n      <td>6.428571</td>\n    </tr>\n    <tr>\n      <th>36</th>\n      <td>8.756757</td>\n      <td>8.307692</td>\n      <td>7.902439</td>\n      <td>7.534884</td>\n      <td>7.2</td>\n      <td>6.893617</td>\n      <td>6.612245</td>\n    </tr>\n    <tr>\n      <th>37</th>\n      <td>9.000000</td>\n      <td>8.538462</td>\n      <td>8.121951</td>\n      <td>7.744186</td>\n      <td>7.4</td>\n      <td>7.085106</td>\n      <td>6.795918</td>\n    </tr>\n    <tr>\n      <th>38</th>\n      <td>NaN</td>\n      <td>8.769231</td>\n      <td>8.341463</td>\n      <td>7.953488</td>\n      <td>7.6</td>\n      <td>7.276596</td>\n      <td>6.979592</td>\n    </tr>\n    <tr>\n      <th>39</th>\n      <td>NaN</td>\n      <td>9.000000</td>\n      <td>8.560976</td>\n      <td>8.162791</td>\n      <td>7.8</td>\n      <td>7.468085</td>\n      <td>7.163265</td>\n    </tr>\n    <tr>\n      <th>40</th>\n      <td>NaN</td>\n      <td>NaN</td>\n      <td>8.780488</td>\n      <td>8.372093</td>\n      <td>8.0</td>\n      <td>7.659574</td>\n      <td>7.346939</td>\n    </tr>\n    <tr>\n      <th>41</th>\n      <td>NaN</td>\n      <td>NaN</td>\n      <td>9.000000</td>\n      <td>8.581395</td>\n      <td>8.2</td>\n      <td>7.851064</td>\n      <td>7.530612</td>\n    </tr>\n    <tr>\n      <th>42</th>\n      <td>NaN</td>\n      <td>NaN</td>\n      <td>NaN</td>\n      <td>8.790698</td>\n      <td>8.4</td>\n      <td>8.042553</td>\n      <td>7.714286</td>\n    </tr>\n    <tr>\n      <th>43</th>\n      <td>NaN</td>\n      <td>NaN</td>\n      <td>NaN</td>\n      <td>9.000000</td>\n      <td>8.6</td>\n      <td>8.234043</td>\n      <td>7.897959</td>\n    </tr>\n    <tr>\n      <th>44</th>\n      <td>NaN</td>\n      <td>NaN</td>\n      <td>NaN</td>\n      <td>NaN</td>\n      <td>8.8</td>\n      <td>8.425532</td>\n      <td>8.081633</td>\n    </tr>\n    <tr>\n      <th>45</th>\n      <td>NaN</td>\n      <td>NaN</td>\n      <td>NaN</td>\n      <td>NaN</td>\n      <td>9.0</td>\n      <td>8.617021</td>\n      <td>8.265306</td>\n    </tr>\n    <tr>\n      <th>46</th>\n      <td>NaN</td>\n      <td>NaN</td>\n      <td>NaN</td>\n      <td>NaN</td>\n      <td>NaN</td>\n      <td>8.808511</td>\n      <td>8.448980</td>\n    </tr>\n    <tr>\n      <th>47</th>\n      <td>NaN</td>\n      <td>NaN</td>\n      <td>NaN</td>\n      <td>NaN</td>\n      <td>NaN</td>\n      <td>9.000000</td>\n      <td>8.632653</td>\n    </tr>\n    <tr>\n      <th>48</th>\n      <td>NaN</td>\n      <td>NaN</td>\n      <td>NaN</td>\n      <td>NaN</td>\n      <td>NaN</td>\n      <td>NaN</td>\n      <td>8.816327</td>\n    </tr>\n    <tr>\n      <th>49</th>\n      <td>NaN</td>\n      <td>NaN</td>\n      <td>NaN</td>\n      <td>NaN</td>\n      <td>NaN</td>\n      <td>NaN</td>\n      <td>9.000000</td>\n    </tr>\n  </tbody>\n</table>\n</div>"
     },
     "execution_count": 228,
     "metadata": {},
     "output_type": "execute_result"
    }
   ],
   "source": [
    "\n",
    "\n",
    "# Create an empty DataFrame with indices from 1 to 49\n",
    "indexer_C_angles = pd.DataFrame(index=range(1, 50))\n",
    "\n",
    "# Populate the DataFrame\n",
    "for column in indirect_indexer_C_holes:\n",
    "    indexer_C_angles[column] = [i * individual_angle_offsets[column] if i <= column else np.nan for i in indexer_C_angles.index]\n",
    "\n",
    "indexer_C_angles"
   ],
   "metadata": {
    "collapsed": false
   }
  },
  {
   "cell_type": "code",
   "execution_count": 239,
   "outputs": [
    {
     "data": {
      "text/plain": "Empty DataFrame\nColumns: [Section, Original_Target, Full_Turns, Indexer_Row, Indexer_Hole, Current_Angle_On_Machine, Error, Notes]\nIndex: []",
      "text/html": "<div>\n<style scoped>\n    .dataframe tbody tr th:only-of-type {\n        vertical-align: middle;\n    }\n\n    .dataframe tbody tr th {\n        vertical-align: top;\n    }\n\n    .dataframe thead th {\n        text-align: right;\n    }\n</style>\n<table border=\"1\" class=\"dataframe\">\n  <thead>\n    <tr style=\"text-align: right;\">\n      <th></th>\n      <th>Section</th>\n      <th>Original_Target</th>\n      <th>Full_Turns</th>\n      <th>Indexer_Row</th>\n      <th>Indexer_Hole</th>\n      <th>Current_Angle_On_Machine</th>\n      <th>Error</th>\n      <th>Notes</th>\n    </tr>\n  </thead>\n  <tbody>\n  </tbody>\n</table>\n</div>"
     },
     "execution_count": 239,
     "metadata": {},
     "output_type": "execute_result"
    }
   ],
   "source": [
    "\n",
    "final_df = pd.DataFrame()\n",
    "\n",
    "final_df['Section'] = []\n",
    "final_df['Original_Target'] = []\n",
    "final_df['Full_Turns'] = []\n",
    "final_df['Indexer_Row'] = []\n",
    "final_df['Indexer_Hole'] = []\n",
    "final_df['Current_Angle_On_Machine'] = []\n",
    "final_df['Error'] = []\n",
    "final_df['Notes'] = []\n",
    "\n",
    "# Original target value example\n",
    "original_target = 0\n",
    "hole_number = 1\n",
    "\n",
    "x = [0, 39.62, 53.62, 21.24]\n",
    "\n",
    "angles = [x[0], 72, 72, 72, 72, 72-x[0],\n",
    "          x[1], 72, 72, 72, 72, 72-x[1],\n",
    "          x[2], 72, 72, 72, 72, 72-x[2],\n",
    "          x[3], 72, 72, 72, 72, 72-x[3],]\n",
    "\n",
    "calibration_hole_no = 48\n",
    "calibration_row = 49\n",
    "\n",
    "final_df"
   ],
   "metadata": {
    "collapsed": false
   }
  },
  {
   "cell_type": "code",
   "execution_count": 240,
   "outputs": [
    {
     "data": {
      "text/plain": "    Section  Original_Target  Full_Turns  Indexer_Row  Indexer_Hole  \\\n0       1.0             0.00         0.0         49.0          48.0   \n1       1.0            72.00         8.0         49.0          48.0   \n2       1.0            72.00         8.0         49.0          48.0   \n3       1.0            72.00         8.0         49.0          48.0   \n4       1.0            72.00         8.0         49.0          48.0   \n5       1.0            72.00         8.0         49.0          48.0   \n6       2.0            39.62         4.0         47.0          18.0   \n7       2.0            72.00         8.0         47.0          18.0   \n8       2.0            72.00         8.0         47.0          18.0   \n9       2.0            72.00         8.0         47.0          18.0   \n10      2.0            72.00         8.0         47.0          18.0   \n11      2.0            32.38         3.0         49.0          48.0   \n12      3.0            53.62         5.0         47.0          44.0   \n13      3.0            72.00         8.0         47.0          44.0   \n14      3.0            72.00         8.0         47.0          44.0   \n15      3.0            72.00         8.0         47.0          44.0   \n16      3.0            72.00         8.0         47.0          44.0   \n17      3.0            18.38         2.0         49.0          48.0   \n18      4.0            21.24         2.0         47.0          16.0   \n19      4.0            72.00         8.0         47.0          16.0   \n20      4.0            72.00         8.0         47.0          16.0   \n21      4.0            72.00         8.0         47.0          16.0   \n22      4.0            72.00         8.0         47.0          16.0   \n23      4.0            50.76         5.0         49.0          48.0   \n\n    Current_Angle_On_Machine     Error  \\\n0                       0.00  0.000000   \n1                      72.00  0.000000   \n2                     144.00  0.000000   \n3                     216.00  0.000000   \n4                     288.00  0.000000   \n5                       0.00  0.000000   \n6                      39.62  0.010482   \n7                     111.62  0.000000   \n8                     183.62  0.000000   \n9                     255.62  0.000000   \n10                    327.62  0.000000   \n11                      0.00  0.000000   \n12                     53.62  0.010795   \n13                    125.62  0.000000   \n14                    197.62  0.000000   \n15                    269.62  0.000000   \n16                    341.62  0.000000   \n17                      0.00  0.000000   \n18                     21.24  0.007503   \n19                     93.24  0.000000   \n20                    165.24  0.000000   \n21                    237.24  0.000000   \n22                    309.24  0.000000   \n23                      0.00  0.000000   \n\n                                                Notes  \n0                                     cutting hole 1;  \n1                                     cutting hole 2;  \n2                                     cutting hole 3;  \n3                                     cutting hole 4;  \n4                                     cutting hole 5;  \n5                 NO cutting moving back to 0 degree;  \n6   cutting hole 1;move past hole 0 (cali-target>m...  \n7                                     cutting hole 2;  \n8                                     cutting hole 3;  \n9                                     cutting hole 4;  \n10                                    cutting hole 5;  \n11                NO cutting moving back to 0 degree;  \n12  cutting hole 1;move past hole 0 (cali-target>m...  \n13                                    cutting hole 2;  \n14                                    cutting hole 3;  \n15                                    cutting hole 4;  \n16                                    cutting hole 5;  \n17                NO cutting moving back to 0 degree;  \n18  cutting hole 1;move past hole 0 (cali-target>m...  \n19                                    cutting hole 2;  \n20                                    cutting hole 3;  \n21                                    cutting hole 4;  \n22                                    cutting hole 5;  \n23                NO cutting moving back to 0 degree;  ",
      "text/html": "<div>\n<style scoped>\n    .dataframe tbody tr th:only-of-type {\n        vertical-align: middle;\n    }\n\n    .dataframe tbody tr th {\n        vertical-align: top;\n    }\n\n    .dataframe thead th {\n        text-align: right;\n    }\n</style>\n<table border=\"1\" class=\"dataframe\">\n  <thead>\n    <tr style=\"text-align: right;\">\n      <th></th>\n      <th>Section</th>\n      <th>Original_Target</th>\n      <th>Full_Turns</th>\n      <th>Indexer_Row</th>\n      <th>Indexer_Hole</th>\n      <th>Current_Angle_On_Machine</th>\n      <th>Error</th>\n      <th>Notes</th>\n    </tr>\n  </thead>\n  <tbody>\n    <tr>\n      <th>0</th>\n      <td>1.0</td>\n      <td>0.00</td>\n      <td>0.0</td>\n      <td>49.0</td>\n      <td>48.0</td>\n      <td>0.00</td>\n      <td>0.000000</td>\n      <td>cutting hole 1;</td>\n    </tr>\n    <tr>\n      <th>1</th>\n      <td>1.0</td>\n      <td>72.00</td>\n      <td>8.0</td>\n      <td>49.0</td>\n      <td>48.0</td>\n      <td>72.00</td>\n      <td>0.000000</td>\n      <td>cutting hole 2;</td>\n    </tr>\n    <tr>\n      <th>2</th>\n      <td>1.0</td>\n      <td>72.00</td>\n      <td>8.0</td>\n      <td>49.0</td>\n      <td>48.0</td>\n      <td>144.00</td>\n      <td>0.000000</td>\n      <td>cutting hole 3;</td>\n    </tr>\n    <tr>\n      <th>3</th>\n      <td>1.0</td>\n      <td>72.00</td>\n      <td>8.0</td>\n      <td>49.0</td>\n      <td>48.0</td>\n      <td>216.00</td>\n      <td>0.000000</td>\n      <td>cutting hole 4;</td>\n    </tr>\n    <tr>\n      <th>4</th>\n      <td>1.0</td>\n      <td>72.00</td>\n      <td>8.0</td>\n      <td>49.0</td>\n      <td>48.0</td>\n      <td>288.00</td>\n      <td>0.000000</td>\n      <td>cutting hole 5;</td>\n    </tr>\n    <tr>\n      <th>5</th>\n      <td>1.0</td>\n      <td>72.00</td>\n      <td>8.0</td>\n      <td>49.0</td>\n      <td>48.0</td>\n      <td>0.00</td>\n      <td>0.000000</td>\n      <td>NO cutting moving back to 0 degree;</td>\n    </tr>\n    <tr>\n      <th>6</th>\n      <td>2.0</td>\n      <td>39.62</td>\n      <td>4.0</td>\n      <td>47.0</td>\n      <td>18.0</td>\n      <td>39.62</td>\n      <td>0.010482</td>\n      <td>cutting hole 1;move past hole 0 (cali-target&gt;m...</td>\n    </tr>\n    <tr>\n      <th>7</th>\n      <td>2.0</td>\n      <td>72.00</td>\n      <td>8.0</td>\n      <td>47.0</td>\n      <td>18.0</td>\n      <td>111.62</td>\n      <td>0.000000</td>\n      <td>cutting hole 2;</td>\n    </tr>\n    <tr>\n      <th>8</th>\n      <td>2.0</td>\n      <td>72.00</td>\n      <td>8.0</td>\n      <td>47.0</td>\n      <td>18.0</td>\n      <td>183.62</td>\n      <td>0.000000</td>\n      <td>cutting hole 3;</td>\n    </tr>\n    <tr>\n      <th>9</th>\n      <td>2.0</td>\n      <td>72.00</td>\n      <td>8.0</td>\n      <td>47.0</td>\n      <td>18.0</td>\n      <td>255.62</td>\n      <td>0.000000</td>\n      <td>cutting hole 4;</td>\n    </tr>\n    <tr>\n      <th>10</th>\n      <td>2.0</td>\n      <td>72.00</td>\n      <td>8.0</td>\n      <td>47.0</td>\n      <td>18.0</td>\n      <td>327.62</td>\n      <td>0.000000</td>\n      <td>cutting hole 5;</td>\n    </tr>\n    <tr>\n      <th>11</th>\n      <td>2.0</td>\n      <td>32.38</td>\n      <td>3.0</td>\n      <td>49.0</td>\n      <td>48.0</td>\n      <td>0.00</td>\n      <td>0.000000</td>\n      <td>NO cutting moving back to 0 degree;</td>\n    </tr>\n    <tr>\n      <th>12</th>\n      <td>3.0</td>\n      <td>53.62</td>\n      <td>5.0</td>\n      <td>47.0</td>\n      <td>44.0</td>\n      <td>53.62</td>\n      <td>0.010795</td>\n      <td>cutting hole 1;move past hole 0 (cali-target&gt;m...</td>\n    </tr>\n    <tr>\n      <th>13</th>\n      <td>3.0</td>\n      <td>72.00</td>\n      <td>8.0</td>\n      <td>47.0</td>\n      <td>44.0</td>\n      <td>125.62</td>\n      <td>0.000000</td>\n      <td>cutting hole 2;</td>\n    </tr>\n    <tr>\n      <th>14</th>\n      <td>3.0</td>\n      <td>72.00</td>\n      <td>8.0</td>\n      <td>47.0</td>\n      <td>44.0</td>\n      <td>197.62</td>\n      <td>0.000000</td>\n      <td>cutting hole 3;</td>\n    </tr>\n    <tr>\n      <th>15</th>\n      <td>3.0</td>\n      <td>72.00</td>\n      <td>8.0</td>\n      <td>47.0</td>\n      <td>44.0</td>\n      <td>269.62</td>\n      <td>0.000000</td>\n      <td>cutting hole 4;</td>\n    </tr>\n    <tr>\n      <th>16</th>\n      <td>3.0</td>\n      <td>72.00</td>\n      <td>8.0</td>\n      <td>47.0</td>\n      <td>44.0</td>\n      <td>341.62</td>\n      <td>0.000000</td>\n      <td>cutting hole 5;</td>\n    </tr>\n    <tr>\n      <th>17</th>\n      <td>3.0</td>\n      <td>18.38</td>\n      <td>2.0</td>\n      <td>49.0</td>\n      <td>48.0</td>\n      <td>0.00</td>\n      <td>0.000000</td>\n      <td>NO cutting moving back to 0 degree;</td>\n    </tr>\n    <tr>\n      <th>18</th>\n      <td>4.0</td>\n      <td>21.24</td>\n      <td>2.0</td>\n      <td>47.0</td>\n      <td>16.0</td>\n      <td>21.24</td>\n      <td>0.007503</td>\n      <td>cutting hole 1;move past hole 0 (cali-target&gt;m...</td>\n    </tr>\n    <tr>\n      <th>19</th>\n      <td>4.0</td>\n      <td>72.00</td>\n      <td>8.0</td>\n      <td>47.0</td>\n      <td>16.0</td>\n      <td>93.24</td>\n      <td>0.000000</td>\n      <td>cutting hole 2;</td>\n    </tr>\n    <tr>\n      <th>20</th>\n      <td>4.0</td>\n      <td>72.00</td>\n      <td>8.0</td>\n      <td>47.0</td>\n      <td>16.0</td>\n      <td>165.24</td>\n      <td>0.000000</td>\n      <td>cutting hole 3;</td>\n    </tr>\n    <tr>\n      <th>21</th>\n      <td>4.0</td>\n      <td>72.00</td>\n      <td>8.0</td>\n      <td>47.0</td>\n      <td>16.0</td>\n      <td>237.24</td>\n      <td>0.000000</td>\n      <td>cutting hole 4;</td>\n    </tr>\n    <tr>\n      <th>22</th>\n      <td>4.0</td>\n      <td>72.00</td>\n      <td>8.0</td>\n      <td>47.0</td>\n      <td>16.0</td>\n      <td>309.24</td>\n      <td>0.000000</td>\n      <td>cutting hole 5;</td>\n    </tr>\n    <tr>\n      <th>23</th>\n      <td>4.0</td>\n      <td>50.76</td>\n      <td>5.0</td>\n      <td>49.0</td>\n      <td>48.0</td>\n      <td>0.00</td>\n      <td>0.000000</td>\n      <td>NO cutting moving back to 0 degree;</td>\n    </tr>\n  </tbody>\n</table>\n</div>"
     },
     "execution_count": 240,
     "metadata": {},
     "output_type": "execute_result"
    }
   ],
   "source": [
    "\n",
    "def calculate_indexes(final_df, original_target, hole_number, calibration_hole_no, calibration_row):\n",
    "    section = (hole_number // 6) + 1\n",
    "    notes = ''\n",
    "\n",
    "\n",
    "\n",
    "    if hole_number == 0:\n",
    "        current_angle_on_machine = 0\n",
    "    else:\n",
    "        current_angle_on_machine = final_df.iloc[-1]['Current_Angle_On_Machine'] + original_target\n",
    "\n",
    "    if hole_number % 6 == 0:\n",
    "        notes = notes + \"cutting hole 1;\"\n",
    "    if hole_number % 6 == 1:\n",
    "        notes = notes + \"cutting hole 2;\"\n",
    "    if hole_number % 6 == 2:\n",
    "        notes = notes + \"cutting hole 3;\"\n",
    "    if hole_number % 6 == 3:\n",
    "        notes = notes + \"cutting hole 4;\"\n",
    "    if hole_number % 6 == 4:\n",
    "        notes = notes + \"cutting hole 5;\"\n",
    "    if hole_number % 6 == 5:\n",
    "        notes = notes + \"NO cutting moving back to 0 degree;\"\n",
    "        current_angle_on_machine = current_angle_on_machine % 360\n",
    "\n",
    "    calibration_angle = indexer_C_angles.at[calibration_hole_no, calibration_row]\n",
    "\n",
    "    full_turns = original_target // worm_worm_gear_ratio\n",
    "    remaining_angle = original_target % worm_worm_gear_ratio\n",
    "\n",
    "    # y = x + c\n",
    "    calibrated_target =  remaining_angle + calibration_angle\n",
    "\n",
    "    # detelte leater\n",
    "    if calibrated_target < 0:\n",
    "        notes = \"SHITTT\"\n",
    "\n",
    "    if calibrated_target > worm_worm_gear_ratio:\n",
    "        calibrated_target = calibrated_target - worm_worm_gear_ratio\n",
    "        notes = notes + \"move past hole 0 (cali-target>max);\"\n",
    "\n",
    "    # variables to store the closest value and its position\n",
    "    closest_value = None\n",
    "    closest_position = (None, None)\n",
    "\n",
    "    # Iterate over each column in the DataFrame\n",
    "    for column in indexer_C_angles.columns:\n",
    "        # Find the row in the current column closest to the remaining angle\n",
    "        closest_row = indexer_C_angles[column].sub(calibrated_target).abs().idxmin()\n",
    "        value_at_closest_row = indexer_C_angles.at[closest_row, column]\n",
    "\n",
    "        # If this is the first iteration or if this value is closer to the remaining angle than the previous closest\n",
    "        if closest_value is None or abs(value_at_closest_row - calibrated_target) < abs(closest_value - calibrated_target):\n",
    "            closest_value = value_at_closest_row\n",
    "            closest_position = (column, closest_row)\n",
    "\n",
    "        error = abs(closest_value - calibrated_target)\n",
    "\n",
    "        if current_angle_on_machine == 0:\n",
    "            closest_value = 0\n",
    "            closest_position = (49, 48)\n",
    "            error = 0\n",
    "\n",
    "\n",
    "\n",
    "\n",
    "    # output = (\n",
    "    #     f\"Closest value to {original_target}° (adjusted to {calibrated_target}° after {int(full_turns)} full max-degree turns) \"\n",
    "    #     f\"is found at indexer_C_hole {closest_position[0]} and row {closest_position[1]}, with a value of {closest_value}°, and error of {abs(closest_value - calibrated_target)}°.\"\n",
    "    # )\n",
    "\n",
    "    new_row = {\n",
    "        'Section' : section,\n",
    "        'Original_Target': original_target,\n",
    "        'Full_Turns': full_turns,\n",
    "        'Indexer_Row': closest_position[0],\n",
    "        'Indexer_Hole': closest_position[1],\n",
    "        'Current_Angle_On_Machine': current_angle_on_machine,\n",
    "        'Error': error,\n",
    "        'Notes': notes,\n",
    "    }\n",
    "\n",
    "    newnew_df = pd.concat([final_df, pd.DataFrame([new_row])], ignore_index=True)\n",
    "\n",
    "    calibration_hole_no = closest_position[1]\n",
    "    calibration_row = closest_position[0]\n",
    "\n",
    "    return newnew_df, calibration_hole_no, calibration_row\n",
    "\n",
    "\n",
    "for i, angle in enumerate(angles):\n",
    "    final_df, calibration_hole_no, calibration_row = calculate_indexes(final_df, angle, i, calibration_hole_no, calibration_row)\n",
    "\n",
    "# final_df = calculate_indexes(final_df, angles[1], 2)\n",
    "final_df"
   ],
   "metadata": {
    "collapsed": false
   }
  },
  {
   "cell_type": "code",
   "execution_count": 241,
   "outputs": [],
   "source": [
    "final_df.to_csv('angle_guide_v10.csv')"
   ],
   "metadata": {
    "collapsed": false
   }
  },
  {
   "cell_type": "code",
   "execution_count": null,
   "outputs": [],
   "source": [],
   "metadata": {
    "collapsed": false
   }
  }
 ],
 "metadata": {
  "kernelspec": {
   "display_name": "Python 3",
   "language": "python",
   "name": "python3"
  },
  "language_info": {
   "codemirror_mode": {
    "name": "ipython",
    "version": 2
   },
   "file_extension": ".py",
   "mimetype": "text/x-python",
   "name": "python",
   "nbconvert_exporter": "python",
   "pygments_lexer": "ipython2",
   "version": "2.7.6"
  }
 },
 "nbformat": 4,
 "nbformat_minor": 0
}
